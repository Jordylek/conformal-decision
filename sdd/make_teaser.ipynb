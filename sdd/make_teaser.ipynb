{
 "cells": [
  {
   "cell_type": "code",
   "execution_count": 6,
   "id": "ff8adfcb",
   "metadata": {},
   "outputs": [
    {
     "name": "stderr",
     "output_type": "stream",
     "text": [
      "/home/aa/miniconda3/lib/python3.9/site-packages/tqdm/auto.py:22: TqdmWarning: IProgress not found. Please update jupyter and ipywidgets. See https://ipywidgets.readthedocs.io/en/stable/user_install.html\n",
      "  from .autonotebook import tqdm as notebook_tqdm\n"
     ]
    }
   ],
   "source": [
    "import os, sys\n",
    "import numpy as np\n",
    "import pandas as pd\n",
    "import matplotlib.pyplot as plt\n",
    "from matplotlib.ticker import FuncFormatter\n",
    "from matplotlib.colors import to_rgb\n",
    "from scipy.stats import multivariate_normal\n",
    "import seaborn as sns\n",
    "import subprocess\n",
    "import glob\n",
    "import pdb\n",
    "from multiprocessing import Pool\n",
    "from tqdm import tqdm\n",
    "from utils.preprocessing import load_SDD\n",
    "from utils.plotting_utils import add_robot\n",
    "from utils.metrics import get_distances\n",
    "from plan_trajectory import setup_params\n",
    "import yaml"
   ]
  },
  {
   "cell_type": "code",
   "execution_count": 7,
   "id": "abf74e70",
   "metadata": {},
   "outputs": [
    {
     "name": "stderr",
     "output_type": "stream",
     "text": [
      "OpenCV: Couldn't read video stream from file \"/checkpoints/aa/SDD/videos/nexus/video4/video.mov\"\n",
      "[ERROR:0@157.801] global /Users/xperience/actions-runner/_work/opencv-python/opencv-python/opencv/modules/videoio/src/cap.cpp (166) open VIDEOIO(CV_IMAGES): raised OpenCV exception:\n",
      "\n",
      "OpenCV(4.6.0) /Users/xperience/actions-runner/_work/opencv-python/opencv-python/opencv/modules/videoio/src/cap_images.cpp:253: error: (-5:Bad argument) CAP_IMAGES: can't find starting number (in the name of file): /checkpoints/aa/SDD/videos/nexus/video4/video.mov in function 'icvExtractPattern'\n",
      "\n",
      "\n"
     ]
    },
    {
     "name": "stdout",
     "output_type": "stream",
     "text": [
      "Parsing scene: nexus_4\n"
     ]
    },
    {
     "name": "stderr",
     "output_type": "stream",
     "text": [
      "100%|██████████████████████████████████████████| 1/1 [00:00<00:00, 26379.27it/s]"
     ]
    },
    {
     "name": "stdout",
     "output_type": "stream",
     "text": [
      "Processing annotations\n"
     ]
    },
    {
     "name": "stderr",
     "output_type": "stream",
     "text": []
    }
   ],
   "source": [
    "# Setup\n",
    "scene = 'nexus_4'\n",
    "forecaster = 'darts'\n",
    "json_name = './params/' + scene + '.json'\n",
    "params = yaml.safe_load(open(json_name))\n",
    "mode = 'train' if scene in os.listdir('./data') else 'test'\n",
    "df = pd.read_csv('./data/' + forecaster + '/' + scene + '.csv')\n",
    "cmap = plt.get_cmap('terrain')\n",
    "frames, _, _ = load_SDD(scene, mode=mode, load_frames=[500])\n",
    "frame = frames[0]\n",
    "H, W, _  = frame.shape\n",
    "crop = [[int(0.45*H), int(0.65*H)-1], [int(0*W), int(1*W)-1]]\n",
    "params = setup_params(params, H, W, None, None)\n",
    "methods = ['ACI', 'Conformal Controller', 'Aggressive', 'Conservative']\n",
    "colors = {\"ACI\": '#6C1587', \"Conformal Controller\": '#FA8128', \"Aggressive\": \"#BC0000\", \"Conservative\": \"#1F456E\"}\n",
    "sequences = {}\n",
    "distances = {}\n",
    "for method in methods:\n",
    "    if method == 'ACI':\n",
    "        lr = 0.1\n",
    "        str_append = forecaster + \"_aci_\" + str(lr).replace('.', '_')\n",
    "    elif method == 'Conformal Controller':\n",
    "        lr = 500.0\n",
    "        str_append = forecaster + \"_conformal_controller_\" + str(lr).replace('.', '_')\n",
    "    elif method == 'Conservative':\n",
    "        lr = 0.0\n",
    "        str_append = forecaster + \"_conservative_\" + str(lr).replace('.', '_')\n",
    "    elif method == 'Aggressive':\n",
    "        lr = 0.0\n",
    "        str_append = forecaster + \"_conformal_controller_\" + str(lr).replace('.', '_')\n",
    "    plan_folder = './plans/' + scene + '/'\n",
    "    plan_filename = os.path.join(plan_folder, 'plan_df_' + str_append + '.csv')\n",
    "    plan_df = pd.read_csv(plan_filename)\n",
    "    distances[method] = get_distances(plan_df, px_per_m = params['px_per_m'])\n",
    "    plan_df = plan_df[(plan_df.metaId == -1) & (plan_df.r_goal_reached == False) & (plan_df.aheads == 1)]\n",
    "    if method == 'ACI':\n",
    "        sequences[method] = np.stack([plan_df.x.to_numpy(), plan_df.y.to_numpy(), plan_df['alphat'].to_numpy()], axis=0)\n",
    "    elif method == 'Conformal Controller':\n",
    "        sequences[method] = np.stack([plan_df.x.to_numpy(), plan_df.y.to_numpy(), plan_df['lambda'].to_numpy()], axis=0)\n",
    "    elif method == 'Conservative':\n",
    "        sequences[method] = np.stack([plan_df.x.to_numpy(), plan_df.y.to_numpy()], axis=0)\n",
    "    elif method == 'Aggressive':\n",
    "        sequences[method] = np.stack([plan_df.x.to_numpy(), plan_df.y.to_numpy()], axis=0)"
   ]
  },
  {
   "cell_type": "code",
   "execution_count": null,
   "id": "3e200f2d",
   "metadata": {},
   "outputs": [],
   "source": [
    "def calculate_dwell_times(x, y, tolerance=20):\n",
    "    dwell_times = np.ones_like(x)\n",
    "    \n",
    "    i = 0\n",
    "    while i < len(x) - 1:\n",
    "        j = i + 1\n",
    "        while j < len(x) and np.linalg.norm([x[j] - x[i], y[j] - y[i]]) < tolerance:\n",
    "            dwell_times[i] += 1\n",
    "            j += 1\n",
    "        \n",
    "        i = j\n",
    "    \n",
    "    return dwell_times\n",
    "\n",
    "dwell_times = {\n",
    "    k : calculate_dwell_times(sequences[k][1], sequences[k][0]) for k in methods\n",
    "}\n",
    "\n",
    "frame_cropped = frame[crop[0][0]:crop[0][1], crop[1][0]:crop[1][1]]\n",
    "\n",
    "collision_indexes = {\n",
    "    k : np.where(distances[k] < params['robot_size'] + params['human_size'])[0][0] if np.sum(distances[k] < params['robot_size'] + params['human_size']) > 0 else None for k in methods\n",
    "}\n",
    "\n",
    "x = {\n",
    "    k : sequences[k][1][:np.nan_to_num(collision_indexes[k], -1)] - crop[1][0] for k in methods\n",
    "}\n",
    "\n",
    "y = {\n",
    "    k : sequences[k][0][:np.nan_to_num(collision_indexes[k], -1)] - crop[0][0] for k in methods\n",
    "}\n",
    "\n",
    "lambdas = {\n",
    "    k : sequences[k][2][:np.nan_to_num(collision_indexes[k], -1)] for k in ['ACI', 'Conformal Controller']\n",
    "}\n",
    "\n",
    "lengths = {\n",
    "    k : sequences[k][0].shape[0] for k in methods\n",
    "}\n",
    "\n",
    "max_length = max(lengths.values())\n",
    "\n",
    "darkening_factor = {\n",
    "    k : lengths[k]/max_length for k in methods\n",
    "}\n",
    "\n",
    "zorders = {\n",
    "    \"ACI\": 0,\n",
    "    \"Conformal Controller\": 2,\n",
    "    \"Aggressive\": 2,\n",
    "    \"Conservative\": 0\n",
    "}"
   ]
  },
  {
   "cell_type": "code",
   "execution_count": null,
   "id": "1635d8ea",
   "metadata": {},
   "outputs": [],
   "source": [
    "def plot_line_gradient(ax, x, y, base_color, darkening_factor, label=None, zorder=0, linewidth=1, collided=None):\n",
    "    \"\"\"\n",
    "    Plots a line with a gradient from light to dark based on a base color and darkening factor.\n",
    "\n",
    "    Parameters:\n",
    "    x (list or array): The x coordinates of the line.\n",
    "    y (list or array): The y coordinates of the line.\n",
    "    base_color (tuple): The RGB values of the darkest color the line will take on, in the range [0, 1].\n",
    "    darkening_factor (float): Controls the speed of color interpolation from light to dark.\n",
    "    ax (matplotlib.axes._axes.Axes): The axes on which to plot the gradient line.\n",
    "    \"\"\"\n",
    "    n = len(x)\n",
    "    base_color = to_rgb(base_color)\n",
    "    for i in range(n - 1):\n",
    "        t = i / (n - 1) * darkening_factor\n",
    "        color = tuple(max(0, min(c + (1-t)*(1-c), 1)) for c in base_color)\n",
    "        if i < n-2:\n",
    "            ax.plot(x[i:i+2], y[i:i+2], color=color, zorder=zorder, linewidth=linewidth, label=None)\n",
    "        else:\n",
    "            ax.plot(x[i:i+2], y[i:i+2], color=color, zorder=zorder, linewidth=linewidth, label=label)\n",
    "            if collided:\n",
    "                ax.scatter(x[-1], y[-1], color=color, marker=\"x\", zorder=zorder)"
   ]
  },
  {
   "cell_type": "code",
   "execution_count": 5,
   "id": "c64d23e2",
   "metadata": {},
   "outputs": [
    {
     "ename": "NameError",
     "evalue": "name 'frame_cropped' is not defined",
     "output_type": "error",
     "traceback": [
      "\u001b[0;31m---------------------------------------------------------------------------\u001b[0m",
      "\u001b[0;31mNameError\u001b[0m                                 Traceback (most recent call last)",
      "Input \u001b[0;32mIn [5]\u001b[0m, in \u001b[0;36m<cell line: 10>\u001b[0;34m()\u001b[0m\n\u001b[1;32m      7\u001b[0m markevery \u001b[38;5;241m=\u001b[39m params[\u001b[38;5;124m\"\u001b[39m\u001b[38;5;124mfps\u001b[39m\u001b[38;5;124m\"\u001b[39m]\n\u001b[1;32m      9\u001b[0m fig \u001b[38;5;241m=\u001b[39m plt\u001b[38;5;241m.\u001b[39mfigure()\n\u001b[0;32m---> 10\u001b[0m fig\u001b[38;5;241m.\u001b[39mset_size_inches(\u001b[38;5;241m1.\u001b[39m \u001b[38;5;241m*\u001b[39m \u001b[43mframe_cropped\u001b[49m\u001b[38;5;241m.\u001b[39mshape[\u001b[38;5;241m1\u001b[39m] \u001b[38;5;241m/\u001b[39m frame_cropped\u001b[38;5;241m.\u001b[39mshape[\u001b[38;5;241m0\u001b[39m], \u001b[38;5;241m1\u001b[39m, forward \u001b[38;5;241m=\u001b[39m \u001b[38;5;28;01mFalse\u001b[39;00m)\n\u001b[1;32m     11\u001b[0m plt\u001b[38;5;241m.\u001b[39mimshow(frame_cropped)\n\u001b[1;32m     12\u001b[0m \u001b[38;5;28;01mfor\u001b[39;00m method \u001b[38;5;129;01min\u001b[39;00m methods:\n",
      "\u001b[0;31mNameError\u001b[0m: name 'frame_cropped' is not defined"
     ]
    },
    {
     "data": {
      "text/plain": [
       "<Figure size 432x288 with 0 Axes>"
      ]
     },
     "metadata": {},
     "output_type": "display_data"
    }
   ],
   "source": [
    "linewidth=2\n",
    "methods_to_plot=[\"Conformal Controller\", \"Aggressive\", \"Conservative\"]\n",
    "savename = './teaser/teaser'\n",
    "for method in methods_to_plot:\n",
    "    savename += \"_\" + method\n",
    "savename += \".pdf\"\n",
    "markevery = params[\"fps\"]\n",
    "\n",
    "fig = plt.figure()\n",
    "fig.set_size_inches(1. * frame_cropped.shape[1] / frame_cropped.shape[0], 1, forward = False)\n",
    "plt.imshow(frame_cropped)\n",
    "for method in methods:\n",
    "    if method not in methods_to_plot:\n",
    "        continue\n",
    "    collided = collision_indexes[method] is not None\n",
    "    plot_line_gradient(plt.gca(), x[method], y[method], colors[method], darkening_factor[method], label=method, zorder=zorders[method], linewidth=linewidth, collided=collided)\n",
    "add_robot(plt.gca(), params['r_start'][1]-crop[0][0], params['r_start'][0]-crop[1][0]+30, 7.5, 7.5, False)\n",
    "# (Add the goal_rad to the x axis because otherwise it looks weird.)\n",
    "plt.scatter(params['r_goal'][0][0] - crop[1][0] + params['goal_rad'], params['r_goal'][0][1] - crop[0][0], marker='*', color='gold', zorder=2)\n",
    "plt.axis('off')\n",
    "if len(methods_to_plot) > 1:\n",
    "    leg = plt.legend()\n",
    "    handles, labels = plt.gca().get_legend_handles_labels()\n",
    "    order = [methods_to_plot.index(label) for label in labels]\n",
    "    leg = plt.legend([handles[idx] for idx in order],[labels[idx] for idx in order], fontsize=3, borderpad=0.6)\n",
    "    leg.get_frame().set_linewidth(0.25)\n",
    "\n",
    "os.makedirs('./teaser/', exist_ok=True)\n",
    "plt.savefig(savename, dpi=frame.shape[0], bbox_inches='tight', pad_inches=0)\n",
    "plt.gcf().set_dpi(frame.shape[0])\n",
    "plt.show()"
   ]
  },
  {
   "cell_type": "code",
   "execution_count": null,
   "id": "9dfa1fb6",
   "metadata": {},
   "outputs": [],
   "source": [
    "fig, axs = plt.subplots(nrows=2, ncols=1)\n",
    "fig.set_size_inches(frame_cropped.shape[1] / frame_cropped.shape[0] * 1.5, 2.3, forward = False)\n",
    "t_aci = np.arange(lambdas[\"ACI\"].shape[0])/params[\"fps\"]\n",
    "t_conformal = np.arange(lambdas[\"Conformal Controller\"].shape[0])/params[\"fps\"]\n",
    "axs[0].plot([], [], color=colors[\"Conformal Controller\"], label=\"CC\")\n",
    "axs[0].plot(t_aci, lambdas[\"ACI\"], color=colors[\"ACI\"], label=\"ACI\")\n",
    "ax2 = axs[0].twinx()\n",
    "def thousand_formatter(x, pos):\n",
    "    if x >= 500:\n",
    "        return f'{x/1000:.0f}K'\n",
    "    else:\n",
    "        return f'{x:.0f}'\n",
    "ax2.plot(t_conformal, lambdas[\"Conformal Controller\"], color=colors[\"Conformal Controller\"])\n",
    "fig.set_dpi(frame.shape[0])\n",
    "sns.despine(top=True, right=False)\n",
    "axs[0].set_ylabel(r'$\\alpha_t$')\n",
    "axs[0].set_ylim([-0.1,0.2])\n",
    "axs[0].set_xticks([])\n",
    "axs[0].set_xticklabels([])\n",
    "axs[0].legend(loc=\"upper right\")\n",
    "ax2.set_ylim([None, None])\n",
    "ax2.set_ylabel(r'$\\lambda_t$')\n",
    "ax2.yaxis.set_major_formatter(FuncFormatter(thousand_formatter))\n",
    "axs[1].plot(t_aci, distances[\"ACI\"], color=colors[\"ACI\"])\n",
    "axs[1].plot(t_conformal, distances[\"Conformal Controller\"], color=colors[\"Conformal Controller\"])\n",
    "axs[1].set_yticks([0, 10])\n",
    "axs[1].set_xlabel('time (s)')\n",
    "axs[1].set_ylabel('min dist (m)')\n",
    "axs[1].axhline(y=params[\"human_rad\"], linestyle=\"dotted\", color=\"#888888\")\n",
    "plt.tight_layout()\n",
    "plt.savefig('./teaser/sdd_lineplots.pdf', dpi=frame.shape[0], bbox_inches='tight', pad_inches=0)"
   ]
  }
 ],
 "metadata": {
  "kernelspec": {
   "display_name": "Python 3 (ipykernel)",
   "language": "python",
   "name": "python3"
  },
  "language_info": {
   "codemirror_mode": {
    "name": "ipython",
    "version": 3
   },
   "file_extension": ".py",
   "mimetype": "text/x-python",
   "name": "python",
   "nbconvert_exporter": "python",
   "pygments_lexer": "ipython3",
   "version": "3.9.12"
  }
 },
 "nbformat": 4,
 "nbformat_minor": 5
}
